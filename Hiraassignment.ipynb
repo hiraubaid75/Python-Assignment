{
  "nbformat": 4,
  "nbformat_minor": 0,
  "metadata": {
    "colab": {
      "provenance": [],
      "authorship_tag": "ABX9TyOfouLLb36B9xhGn0zzjAoH",
      "include_colab_link": true
    },
    "kernelspec": {
      "name": "python3",
      "display_name": "Python 3"
    },
    "language_info": {
      "name": "python"
    }
  },
  "cells": [
    {
      "cell_type": "markdown",
      "metadata": {
        "id": "view-in-github",
        "colab_type": "text"
      },
      "source": [
        "<a href=\"https://colab.research.google.com/github/hiraubaid75/Python-Assignment/blob/main/Hiraassignment.ipynb\" target=\"_parent\"><img src=\"https://colab.research.google.com/assets/colab-badge.svg\" alt=\"Open In Colab\"/></a>"
      ]
    },
    {
      "cell_type": "code",
      "execution_count": null,
      "metadata": {
        "id": "uFwlc_0q6Tw3"
      },
      "outputs": [],
      "source": []
    },
    {
      "cell_type": "markdown",
      "source": [
        "a) Create three variables: one for storing your age (integer), one for your name (string), and one to\n",
        "check if you are a student (Boolean). Print the variables."
      ],
      "metadata": {
        "id": "EVfYosNZ6YXH"
      }
    },
    {
      "cell_type": "code",
      "source": [
        "name= (input(\"Enter your name: \"))\n",
        "age= int(input(\"Enter your age: \"))\n",
        "student= bool(input(\"Are you a student? (yes/no): \"))\n",
        "print(\"\\n----------User details------------\\n\")\n",
        "print(\"Name:  \",name)\n",
        "print(\"Age   \",age)\n",
        "print(\"Check User is a student or not:  \",student)\n"
      ],
      "metadata": {
        "colab": {
          "base_uri": "https://localhost:8080/"
        },
        "id": "OhIAkKQB6cOx",
        "outputId": "edc2ae0c-c789-454f-e626-0308135561a5"
      },
      "execution_count": null,
      "outputs": [
        {
          "output_type": "stream",
          "name": "stdout",
          "text": [
            "Enter your name: hira\n",
            "Enter your age: 29\n",
            "Are you a student? (yes/no): yes\n",
            "\n",
            "----------User details------------\n",
            "Name:   hira\n",
            "Age    29\n",
            "Check User is a student or not:   True\n"
          ]
        }
      ]
    },
    {
      "cell_type": "markdown",
      "source": [
        "b) Perform the following operations and print the results:\n",
        "- Add 25 to your age variable.\n",
        "- Concatenate your name with the string &quot;Smith.&quot;\n",
        "- Negate the Boolean variable (if True, make it False, and vice versa).\n"
      ],
      "metadata": {
        "id": "90UZ7jQn8pZJ"
      }
    },
    {
      "cell_type": "code",
      "source": [],
      "metadata": {
        "id": "SHTMFwfqBB8U"
      },
      "execution_count": null,
      "outputs": []
    },
    {
      "cell_type": "code",
      "source": [
        "name= (input(\"Enter your name: \"))\n",
        "age= int(input(\"Enter your age: \"))\n",
        "is_student = input(\"Are you a student? (yes/no): \")\n",
        "\n",
        "#add values to the variables\n",
        "\n",
        "name+= \" Smith\"\n",
        "age+= 25\n",
        "is_student = not (is_student)\n",
        "\n",
        "print(\"\\n------Updated User Details-------\\n\")\n",
        "\n",
        "print(\"Updated Name:  \",name)\n",
        "print(\"Updated Age:   \",age)\n",
        "print(\"Updated User status:  \",is_student)\n"
      ],
      "metadata": {
        "colab": {
          "base_uri": "https://localhost:8080/"
        },
        "id": "9w4Z42T08xdj",
        "outputId": "14475a6c-b80b-4b5e-95a6-5e4e452f0589"
      },
      "execution_count": null,
      "outputs": [
        {
          "output_type": "stream",
          "name": "stdout",
          "text": [
            "Enter your name: hira\n",
            "Enter your age: 29\n",
            "Are you a student? (yes/no): yes\n",
            "\n",
            "------Updated User Details-------\n",
            "\n",
            "Updated Name:   hiraSmith\n",
            "Updated Age    54\n",
            "Updated User status:   False\n"
          ]
        }
      ]
    },
    {
      "cell_type": "markdown",
      "source": [
        "a) A rectangle has a width of 5.5 units and a height of 3.25 units. Store width and height in variables.\n",
        "Create a new variable called area and write an expression to calculate the area. Print the area in the\n",
        "output."
      ],
      "metadata": {
        "id": "DnkfbP6ZBw5Y"
      }
    },
    {
      "cell_type": "code",
      "source": [
        "width=5.5\n",
        "height=3.25\n",
        "area=(width*height)\n",
        "print(\"Area of a rectangle is: \",area)"
      ],
      "metadata": {
        "colab": {
          "base_uri": "https://localhost:8080/"
        },
        "id": "5xgIiMmGB3V8",
        "outputId": "8976b9f1-1043-45d6-84d0-ab0aa66eec89"
      },
      "execution_count": null,
      "outputs": [
        {
          "output_type": "stream",
          "name": "stdout",
          "text": [
            "Area of a rectangle is:  17.875\n"
          ]
        }
      ]
    },
    {
      "cell_type": "markdown",
      "source": [
        "b) Take temperature input from user in Celsius. Convert it to Fahrenheit using the formula:\n",
        "F = (C * 9/5) + 32\n",
        "Store this temperature in a variable called Fahrenheit and print this variable."
      ],
      "metadata": {
        "id": "KjE56IW_CS__"
      }
    },
    {
      "cell_type": "code",
      "source": [
        "celsius= float(input(\"enter temp in celsius: \"))\n",
        "Fahrenheit= (celsius*9/5)+32\n",
        "print(\"\\nTemperature in Celsius: \",celsius)\n",
        "print(\"Temperature in Fahrenheit: \",Fahrenheit)"
      ],
      "metadata": {
        "colab": {
          "base_uri": "https://localhost:8080/"
        },
        "id": "gz5MTzjYCXsd",
        "outputId": "628be141-c598-4b4f-e564-b0265832d847"
      },
      "execution_count": null,
      "outputs": [
        {
          "output_type": "stream",
          "name": "stdout",
          "text": [
            "enter temp in celsius: 56\n",
            "\n",
            "Temperature in Celsius:  56.0\n",
            "Temperature in Fahrenheit:  132.8\n"
          ]
        }
      ]
    },
    {
      "cell_type": "markdown",
      "source": [
        "c)Take radius of the circle as input from user. Calculate the area of a circle with this radius and store\n",
        "it in a variable called area. Print area at the end of your code.\n",
        "(Use the formula: area = π * radius^2, where π (pi) is approximately 3.14159)."
      ],
      "metadata": {
        "id": "tzIU4WikD6zQ"
      }
    },
    {
      "cell_type": "code",
      "source": [
        "radius= float(input(\"Enter radius of the circle:  \"))\n",
        "area= 3.14159*radius**2\n",
        "print(\"\\nRadius of the circle is: \",radius)\n",
        "print(\"Area of the circle is: \",area)\n"
      ],
      "metadata": {
        "colab": {
          "base_uri": "https://localhost:8080/"
        },
        "id": "boO_cyPdD7wY",
        "outputId": "8c5426d6-a8b6-49ac-9e0c-35276a2a19a2"
      },
      "execution_count": null,
      "outputs": [
        {
          "output_type": "stream",
          "name": "stdout",
          "text": [
            "Enter radius of the circle:  2.3\n",
            "\n",
            "Radius of the circle is:  2.3\n",
            "Area of the circle is:  16.619011099999998\n"
          ]
        }
      ]
    },
    {
      "cell_type": "markdown",
      "source": [
        "Task 3: List Manipulation\n",
        "a) Create a list called &quot;fruits&quot; containing the following fruits: &quot;apple&quot;, &quot;banana&quot;, &quot;cherry&quot;, &quot;date&quot;,\n",
        "&quot;strawberry&quot;, &quot;fig&quot;, and &quot;grape&quot;. Print the list.\n",
        "1. Remove the first and last elements from the &quot;fruits&quot; list. Print the updated list."
      ],
      "metadata": {
        "id": "C3mDlRdyEnHb"
      }
    },
    {
      "cell_type": "code",
      "source": [
        "#create a list\n",
        "fruits =[\"apple\", \"banana\", \"cherry\", \"date\", \"strawberry\", \"fig\",\"grapes\"]\n",
        "print(\"orginal list\\n\",fruits)\n",
        "\n",
        "fruits.pop(0)  # Removes the first element\n",
        "fruits.pop(-1)  # Removes the last element\n",
        "\n",
        "print(\"\\nUpdated list\\n\",fruits)"
      ],
      "metadata": {
        "colab": {
          "base_uri": "https://localhost:8080/"
        },
        "id": "SM360pHWEocw",
        "outputId": "8a83d19a-9543-4fc2-82ea-f7fbbf747043"
      },
      "execution_count": null,
      "outputs": [
        {
          "output_type": "stream",
          "name": "stdout",
          "text": [
            "orginal list\n",
            " ['apple', 'banana', 'cherry', 'date', 'strawberry', 'fig', 'grapes']\n",
            "\n",
            "Updated list\n",
            " ['banana', 'cherry', 'date', 'strawberry', 'fig']\n"
          ]
        }
      ]
    },
    {
      "cell_type": "markdown",
      "source": [
        "a) Create a list called \"fruits\" containing the following fruits: \"apple\", \"banana\", \"cherry\", \"date\", \"strawberry\", \"fig\", and \"grape\". Print the list.\n",
        "\n",
        "Replace the second to fourth items with [&quot;kiwi&quot;, &quot;lemon&quot;, &quot;mango&quot;] using list slicing."
      ],
      "metadata": {
        "id": "3PP0EzO_Fxu6"
      }
    },
    {
      "cell_type": "code",
      "source": [
        "Q fruits=[\"apple\", \"banana\", \"cherry\", \"date\", \"strawberry\", \"fig\",  \"grape\"]\n",
        "print(\"Original Lists: \",fruits)\n",
        "fruits[1:4]=[\"kiwi\", \"lemon\", \"mango\"]\n",
        "\n",
        "\n",
        "print(\"\\nUpdated Lists: \", fruits)"
      ],
      "metadata": {
        "colab": {
          "base_uri": "https://localhost:8080/"
        },
        "id": "9G4FPqZ0Fzsa",
        "outputId": "1139f689-071f-47f2-c401-cb53185a56e4"
      },
      "execution_count": null,
      "outputs": [
        {
          "output_type": "stream",
          "name": "stdout",
          "text": [
            "Original Lists:  ['apple', 'banana', 'cherry', 'date', 'strawberry', 'fig', 'grape']\n",
            "\n",
            "Updated Lists:  ['apple', 'kiwi', 'lemon', 'mango', 'strawberry', 'fig', 'grape']\n"
          ]
        }
      ]
    },
    {
      "cell_type": "markdown",
      "source": [
        "Task 4: Dictionary Operations\n",
        "a) Create a dictionary named &quot;capitals&quot; with three key-value pairs: &quot;USA&quot; - &quot;Washington D.C.,&quot;\n",
        "&quot;France&quot; - &quot;Paris,&quot; and &quot;Japan&quot; - &quot;Tokyo.&quot; Print the dictionary.\n",
        "b) Add a new country and its capital to the &quot;capitals&quot; dictionary. The country is &quot;Germany,&quot; and the\n",
        "capital is &quot;Berlin.&quot; Print the updated dictionary.\n",
        "c) Check if &quot;France&quot; exists in the &quot;capitals&quot; dictionary. If it does, print &quot;France is in the dictionary,&quot;\n",
        "otherwise, print &quot;France is not in the dictionary.&quot;"
      ],
      "metadata": {
        "id": "nr_ORMb8Vxe3"
      }
    },
    {
      "cell_type": "code",
      "source": [
        "# Create a dictionary named \"capitals\"\n",
        "capitals = {\n",
        "    \"USA\": \"Washington D.C.\",\n",
        "    \"France\": \"Paris\",\n",
        "    \"Japan\": \"Tokyo\"\n",
        "}\n",
        "\n",
        "# Print the dictionary\n",
        "print(capitals)\n"
      ],
      "metadata": {
        "colab": {
          "base_uri": "https://localhost:8080/"
        },
        "id": "nq_RLsqcV0oQ",
        "outputId": "ae104550-0153-4c08-f5b8-ce325c153842"
      },
      "execution_count": null,
      "outputs": [
        {
          "output_type": "stream",
          "name": "stdout",
          "text": [
            "{'USA': 'Washington D.C.', 'France': 'Paris', 'Japan': 'Tokyo'}\n"
          ]
        }
      ]
    },
    {
      "cell_type": "markdown",
      "source": [
        "b) Add a new country and its capital to the \"capitals\" dictionary. The country is \"Germany,\" and the capital is \"Berlin.\" Print the updated dictionary.\n"
      ],
      "metadata": {
        "id": "Rxy4S3SOXAIS"
      }
    },
    {
      "cell_type": "code",
      "source": [
        "capitals[\"Germany\"]=\"Berlin\"\n",
        "print(capitals)"
      ],
      "metadata": {
        "colab": {
          "base_uri": "https://localhost:8080/"
        },
        "id": "ZsIZw4IMXB6R",
        "outputId": "88f24b7f-aa3f-4026-d7be-959b9fc62f3d"
      },
      "execution_count": null,
      "outputs": [
        {
          "output_type": "stream",
          "name": "stdout",
          "text": [
            "{'USA': 'Washington D.C.', 'France': 'Paris', 'Japan': 'Tokyo', 'Germany': 'Berlin'}\n"
          ]
        }
      ]
    },
    {
      "cell_type": "markdown",
      "source": [
        " c) Check if \"France\" exists in the \"capitals\" dictionary. If it does, print \"France is in the dictionary,\" otherwise, print \"France is not in the dictionary.\""
      ],
      "metadata": {
        "id": "0sdGfIAeXXGr"
      }
    },
    {
      "cell_type": "code",
      "source": [
        "if \"France\" in capitals:\n",
        "    print(\" France is in the dictionary.\")\n",
        "else:\n",
        "    print(\"France is not in the dictionary.\")"
      ],
      "metadata": {
        "colab": {
          "base_uri": "https://localhost:8080/"
        },
        "id": "gMGaH-NiXYMq",
        "outputId": "b63c0ef1-d042-4e63-cdf6-f57aea5909c0"
      },
      "execution_count": null,
      "outputs": [
        {
          "output_type": "stream",
          "name": "stdout",
          "text": [
            " France is in the dictionary.\n"
          ]
        }
      ]
    },
    {
      "cell_type": "markdown",
      "source": [
        "Task 5: Comparison Operators, Logical Operators and If/Else:\n",
        "a) Create a variable called number that takes user input. Write a block of code that checks if the\n",
        "number is positive or negative. If the number is positive only then further check if it is even or odd.\n",
        "Your output should print “The number is even”, or the “The number is odd”.\n",
        "b) Create two variables called age and GPA. Give them values of your choice. Next, write a block of\n",
        "code to check if a student with this age and GPA is eligible for admission. The following are the\n",
        "conditions:\n",
        "- The student must be at least 18 years old.\n",
        "- The student&#39;s GPA must be 3.0 or higher on a scale of 4.0.\n",
        "Your output should print “Eligible for admission” or “Not eligible for admission”."
      ],
      "metadata": {
        "id": "G9MGdbi4Xua2"
      }
    },
    {
      "cell_type": "code",
      "source": [
        "# Part a: Check if a number is positive, negative, even, or odd\n",
        "number = int(input(\"Enter a number: \"))\n",
        "if number > 0:\n",
        "    if number % 2 == 0:\n",
        "        print(\"The number is even\")\n",
        "    else:\n",
        "        print(\"The number is odd\")\n",
        "else:\n",
        "    print(\"The number is negative\")\n",
        "\n",
        "# Part b: Check if a student is eligible for admission\n",
        "age = 20  # Assign an age value\n",
        "GPA = 3.5  # Assign a GPA value\n",
        "\n",
        "if age >= 18 and GPA >= 3.0:\n",
        "    print(\"Eligible for admission\")\n",
        "else:\n",
        "    print(\"Not eligible for admission\")"
      ],
      "metadata": {
        "colab": {
          "base_uri": "https://localhost:8080/"
        },
        "id": "9FmmOtyUXx9c",
        "outputId": "face2f13-00e3-428e-f591-6e3a414e50de"
      },
      "execution_count": null,
      "outputs": [
        {
          "output_type": "stream",
          "name": "stdout",
          "text": [
            "Enter a number: 55\n",
            "The number is odd\n",
            "Eligible for admission\n"
          ]
        }
      ]
    },
    {
      "cell_type": "markdown",
      "source": [
        "a) Create a string variable containing the following sentence:\n",
        "&quot;Python programming is fun and powerful!&quot;\n",
        "Write Python code to do the following and print the results:\n",
        "1. Find the length of the string.\n",
        "2. Convert the string to uppercase.\n",
        "3. Replace &quot;fun&quot; with &quot;exciting.&quot;\n",
        "4. Check if the string contains the word &quot;Python.&quot;\n",
        "6. Extract the last word &quot;powerful!&quot;\n",
        "5. Remove the word programming from the sentence and print the rest of the sentence.\n",
        "b) Given the string email = &quot;user@example.com&quot;, perform the following:\n",
        " Extract the username part (everything before the &quot;@&quot; symbol).\n",
        " Extract the domain part (everything after the &quot;@&quot; symbol).\n",
        " Check if the email contains the substring &quot;example&quot;.\n"
      ],
      "metadata": {
        "id": "WWXlK-3rZR_n"
      }
    },
    {
      "cell_type": "code",
      "source": [
        "#String manipulations\n",
        "sentence = \"Python programming is fun and powerful!\"\n",
        "\n",
        "# 1. Find the length of the string\n",
        "print(\"Length of the string:\", len(sentence))\n",
        "\n",
        "# 2. Convert the string to uppercase\n",
        "print(\"Uppercase string:\", sentence.upper())\n",
        "\n",
        "# 3. Replace \"fun\" with \"exciting\"\n",
        "print(\"Modified string:\", sentence.replace(\"fun\", \"exciting\"))\n",
        "\n",
        "# 4. Check if the string contains \"Python\"\n",
        "print(\"Contains 'Python':\", \"Python\" in sentence)\n",
        "\n",
        "# 5. Extract the last word \"powerful!\"\n",
        "print(\"Last word:\", sentence.split()[-1])\n",
        "\n",
        "# 6. Remove the word \"programming\" and print the rest of the sentence\n",
        "print(\"Without 'programming':\", sentence.replace(\"programming \", \"\"))\n",
        "\n",
        "# Part d: Email manipulations\n",
        "email = \"user@example.com\"\n",
        "\n",
        "# Extract username and domain\n",
        "username, domain = email.split(\"@\")\n",
        "print(\"Username:\", username)\n",
        "print(\"Domain:\", domain)\n",
        "\n",
        "# Check if the email contains \"example\"\n",
        "print(\"Contains 'example':\", \"example\" in email)"
      ],
      "metadata": {
        "colab": {
          "base_uri": "https://localhost:8080/"
        },
        "id": "O6wmIdsVZrNh",
        "outputId": "566777d4-350b-47c8-e60c-b79bf4ebdea8"
      },
      "execution_count": null,
      "outputs": [
        {
          "output_type": "stream",
          "name": "stdout",
          "text": [
            "Length of the string: 39\n",
            "Uppercase string: PYTHON PROGRAMMING IS FUN AND POWERFUL!\n",
            "Modified string: Python programming is exciting and powerful!\n",
            "Contains 'Python': True\n",
            "Last word: powerful!\n",
            "Without 'programming': Python is fun and powerful!\n",
            "Username: user\n",
            "Domain: example.com\n",
            "Contains 'example': True\n"
          ]
        }
      ]
    }
  ]
}